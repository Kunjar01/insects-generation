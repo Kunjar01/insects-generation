{
 "cells": [
  {
   "cell_type": "code",
   "execution_count": 5,
   "metadata": {},
   "outputs": [],
   "source": [
    "import os\n",
    "import librosa\n",
    "import yaml\n",
    "from tqdm import tqdm\n",
    "import sys\n",
    "import torch\n",
    "import numpy as np\n",
    "sys.path.append(\"../\")\n",
    "from dataloaders import SpectrogramsDataModule\n",
    "import matplotlib.pyplot as plt"
   ]
  },
  {
   "cell_type": "code",
   "execution_count": 2,
   "metadata": {},
   "outputs": [
    {
     "name": "stdout",
     "output_type": "stream",
     "text": [
      "{'dataset': {'num_workers': 6, 'root_dir': '/Users/test/Documents/Projects/Master/nips4bplus/splits_new/', 'train_path': '/Users/test/Documents/Projects/Master/nips4bplus/splits_new/cleaned_train.txt', 'val_path': '/Users/test/Documents/Projects/Master/nips4bplus/splits_new/cleaned_test.txt', 'test_path': '/Users/test/Documents/Projects/Master/nips4bplus/splits_new/cleaned_test.txt', 'lmdb_path': '', 'batch_size': 32, 'classes_name': ['Erirub_song', 'Turphi_song', 'Turmer_call', 'Parate_song', 'Sylcan_song', 'Galcri_call', 'Cetcet_song', 'Alaarv_song', 'Sylcan_call', 'Serser_song'], 'transforms': '', 'resize': False, 'return_tuple': True, 'return_tuple_of3': True, 'sr': 22050, 'use_mel': True, 'use_cache': False, 'use_rgb': True}}\n"
     ]
    }
   ],
   "source": [
    "with open(\"/Users/test/Documents/Projects/Master/birds-generation/src/configs/dataset/nips4bplus.yaml\", mode='r') as fs:\n",
    "    cfg = yaml.safe_load(fs)\n",
    "    cfg['dataset']['root_dir'] = \"/Users/test/Documents/Projects/Master/nips4bplus/splits_new/\"\n",
    "    cfg['dataset']['train_path'] = \"/Users/test/Documents/Projects/Master/nips4bplus/splits_new/cleaned_train.txt\"\n",
    "    cfg['dataset']['val_path']   = \"/Users/test/Documents/Projects/Master/nips4bplus/splits_new/cleaned_test.txt\"\n",
    "    cfg['dataset']['test_path']  = \"/Users/test/Documents/Projects/Master/nips4bplus/splits_new/cleaned_test.txt\"\n",
    "    print(cfg)"
   ]
  },
  {
   "cell_type": "code",
   "execution_count": 3,
   "metadata": {},
   "outputs": [
    {
     "name": "stdout",
     "output_type": "stream",
     "text": [
      "Data initialization\n",
      "All paths 177\n",
      "Not using cache 177 177\n",
      "Data initialization\n",
      "All paths 67\n",
      "Not using cache 67 67\n",
      "Data initialization\n",
      "All paths 67\n",
      "Not using cache 67 67\n"
     ]
    }
   ],
   "source": [
    "datamodule = SpectrogramsDataModule(config=cfg['dataset'])\n",
    "datamodule.setup()"
   ]
  },
  {
   "cell_type": "code",
   "execution_count": 8,
   "metadata": {},
   "outputs": [
    {
     "name": "stderr",
     "output_type": "stream",
     "text": [
      "100%|██████████| 6/6 [00:00<00:00, 11.22it/s]\n",
      "100%|██████████| 3/3 [00:00<00:00,  8.15it/s]\n",
      "100%|██████████| 2/2 [00:00<00:00,  2.19it/s]\n"
     ]
    }
   ],
   "source": [
    "dataloaders = [datamodule.train_dataloader(), datamodule.test_dataloader()]\n",
    "for dataloader in tqdm(dataloaders):\n",
    "    for data in tqdm(dataloader):\n",
    "        audio, classes, filenames = data\n",
    "        for j, sample in enumerate(audio):\n",
    "            sample = sample[0]\n",
    "            # print(\"Audio Shape\", sample.shape)\n",
    "            # print(\"Unique values\", len(torch.unique(sample)))\n",
    "            # print(\"Label\", classes[j].item())\n",
    "            # print(\"Filename\", filenames[j])\n",
    "            # print()\n",
    "            \n",
    "            sample = sample.numpy()\n",
    "            out_file = os.path.splitext(filenames[j])[0]\n",
    "            # print(out_file)\n",
    "            np.save(f\"{out_file}.npy\", sample)\n",
    "            # plt.figure()\n",
    "            # plt.imshow(sample)\n",
    "        # break\n",
    "    # print(data)\n",
    "    # break"
   ]
  },
  {
   "cell_type": "code",
   "execution_count": null,
   "metadata": {},
   "outputs": [],
   "source": []
  }
 ],
 "metadata": {
  "interpreter": {
   "hash": "e93dd7469fb6698e09fbfba73e5ce40dc1dc5e356aab3eb579a371dc5e93993c"
  },
  "kernelspec": {
   "display_name": "Python 3.7.7 ('scologan')",
   "language": "python",
   "name": "python3"
  },
  "language_info": {
   "codemirror_mode": {
    "name": "ipython",
    "version": 3
   },
   "file_extension": ".py",
   "mimetype": "text/x-python",
   "name": "python",
   "nbconvert_exporter": "python",
   "pygments_lexer": "ipython3",
   "version": "3.7.7"
  },
  "orig_nbformat": 4
 },
 "nbformat": 4,
 "nbformat_minor": 2
}
