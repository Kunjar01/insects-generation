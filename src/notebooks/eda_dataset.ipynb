{
 "cells": [
  {
   "cell_type": "code",
   "execution_count": 2,
   "metadata": {},
   "outputs": [
    {
     "data": {
      "text/plain": [
       "'\\nNotebook for analysing the dataset distribution accross the differents birds species.\\n\\n1- We will first load all the annotations file into a Dataframe.\\n2- Plot the samples count per classes\\n3- Analyze the duration of samples per classes\\n4- Inspect the distribution of the classes of interests.\\n5- Identify the final list of classes of interests.\\n\\n'"
      ]
     },
     "execution_count": 2,
     "metadata": {},
     "output_type": "execute_result"
    }
   ],
   "source": [
    "\"\"\"\n",
    "Notebook for analysing the dataset distribution accross the differents birds species.\n",
    "\n",
    "1- We will first load all the annotations file into a Dataframe.\n",
    "2- Plot the samples count per classes\n",
    "3- Analyze the duration of samples per classes\n",
    "4- Inspect the distribution of the classes of interests.\n",
    "5- Identify the final list of classes of interests.\n",
    "\n",
    "\"\"\""
   ]
  },
  {
   "cell_type": "code",
   "execution_count": 1,
   "metadata": {},
   "outputs": [
    {
     "name": "stderr",
     "output_type": "stream",
     "text": [
      "2022-07-17 10:24:15.312 \n",
      "  \u001b[33m\u001b[1mWarning:\u001b[0m to view this Streamlit app on a browser, run it with the following\n",
      "  command:\n",
      "\n",
      "    streamlit run /Users/test/miniconda3/envs/scologan/lib/python3.7/site-packages/ipykernel_launcher.py [ARGUMENTS]\n"
     ]
    },
    {
     "data": {
      "text/plain": [
       "<Figure size 1440x720 with 0 Axes>"
      ]
     },
     "metadata": {},
     "output_type": "display_data"
    },
    {
     "data": {
      "text/plain": [
       "<Figure size 72x72 with 0 Axes>"
      ]
     },
     "metadata": {},
     "output_type": "display_data"
    }
   ],
   "source": [
    "import os\n",
    "import random\n",
    "random.seed(42) \n",
    "import glob\n",
    "import numpy as np\n",
    "import pandas as pd\n",
    "import matplotlib.pyplot as plt\n",
    "import librosa\n",
    "from tqdm import tqdm\n",
    "import uuid\n",
    "from sklearn.model_selection import train_test_split\n",
    "from  st_nips4bplus_labeller import compute_mel_spectrogram"
   ]
  },
  {
   "cell_type": "markdown",
   "metadata": {},
   "source": [
    "## Global variables"
   ]
  },
  {
   "cell_type": "code",
   "execution_count": 4,
   "metadata": {},
   "outputs": [
    {
     "data": {
      "text/plain": [
       "514"
      ]
     },
     "execution_count": 4,
     "metadata": {},
     "output_type": "execute_result"
    }
   ],
   "source": [
    "AUDIOS_PATH_ROOT = \"/Users/test/Documents/Projects/Master/nips4bplus/raw_audio\"\n",
    "ANNOTATIONS_PATH_ROOT = \"/Users/test/Documents/Projects/Master/nips4bplus/raw_audio/new_labels\"\n",
    "OUT_FOLDER  = \"/Users/test/Documents/Projects/Master/nips4bplus/splits_temp\"\n",
    "os.makedirs(OUT_FOLDER, exist_ok=False)\n",
    "ANNOTATIONS_PATH = glob.glob(ANNOTATIONS_PATH_ROOT + \"/*.csv\")\n",
    "SR=22050\n",
    "len(ANNOTATIONS_PATH)"
   ]
  },
  {
   "cell_type": "markdown",
   "metadata": {},
   "source": [
    "## Load annotations"
   ]
  },
  {
   "cell_type": "code",
   "execution_count": 5,
   "metadata": {},
   "outputs": [
    {
     "data": {
      "text/plain": [
       "(            start_time  duration  \\\n",
       " 0  0.09650793699999999  0.401270   \n",
       " 1                  0.0  1.847619   \n",
       " 2          2.040634921  1.532698   \n",
       " 3           3.79047619  1.084444   \n",
       " 4          4.403809524  0.472381   \n",
       " \n",
       "                                             filename    classname  \n",
       " 0  /Users/test/Documents/Projects/Master/nips4bpl...  Galthe_song  \n",
       " 1  /Users/test/Documents/Projects/Master/nips4bpl...  Alaarv_song  \n",
       " 2  /Users/test/Documents/Projects/Master/nips4bpl...  Alaarv_song  \n",
       " 3  /Users/test/Documents/Projects/Master/nips4bpl...  Alaarv_song  \n",
       " 4  /Users/test/Documents/Projects/Master/nips4bpl...  Galcri_call  ,\n",
       " 961)"
      ]
     },
     "execution_count": 5,
     "metadata": {},
     "output_type": "execute_result"
    }
   ],
   "source": [
    "data = []\n",
    "for annotation_filepath in ANNOTATIONS_PATH:\n",
    "    with open(annotation_filepath, 'r') as fs:\n",
    "        lines = fs.read().splitlines()\n",
    "        for row in lines:\n",
    "            if row:\n",
    "                row = row.split(',')\n",
    "                row[-1] = row[-1].strip()\n",
    "                row.insert(2, annotation_filepath)\n",
    "                data.append(row)\n",
    "\n",
    "df = pd.DataFrame.from_records(data, columns=[\"start_time\", \"duration\", \"filename\",\"classname\"])\n",
    "df['duration'] = pd.to_numeric(df['duration'])\n",
    "df = df.drop_duplicates()\n",
    "df = df[df['classname'] != 'Unknown']\n",
    "df.head(), len(df)\n"
   ]
  },
  {
   "cell_type": "code",
   "execution_count": 6,
   "metadata": {},
   "outputs": [
    {
     "data": {
      "text/plain": [
       "Erirub_song    29\n",
       "Turphi_song    28\n",
       "Turmer_call    26\n",
       "Sylcan_song    25\n",
       "Galcri_call    25\n",
       "Name: classname, dtype: int64"
      ]
     },
     "execution_count": 6,
     "metadata": {},
     "output_type": "execute_result"
    }
   ],
   "source": [
    "class_count = df['classname'].value_counts()\n",
    "class_count.head()"
   ]
  },
  {
   "cell_type": "code",
   "execution_count": 19,
   "metadata": {},
   "outputs": [],
   "source": [
    "species_of_interest = class_count[class_count > 20].index.tolist()\n",
    "\n",
    "# len(species_of_interest), species_of_interest"
   ]
  },
  {
   "cell_type": "code",
   "execution_count": 29,
   "metadata": {},
   "outputs": [
    {
     "name": "stdout",
     "output_type": "stream",
     "text": [
      "      classname  count\n",
      "36  Aegcau_call     11\n",
      "6   Alaarv_song     22\n",
      "31  Anttri_song     13\n",
      "19  Butbut_call     17\n",
      "56  Carcan_call      8\n",
      "..          ...    ...\n",
      "58  Tibtom_song      7\n",
      "23  Trotro_song     16\n",
      "2   Turmer_call     26\n",
      "34  Turmer_song     12\n",
      "1   Turphi_song     28\n",
      "\n",
      "[82 rows x 2 columns]\n"
     ]
    },
    {
     "data": {
      "application/vnd.plotly.v1+json": {
       "config": {
        "plotlyServerURL": "https://plot.ly"
       },
       "data": [
        {
         "alignmentgroup": "True",
         "hovertemplate": "classname=%{x}<br>count=%{y}<extra></extra>",
         "legendgroup": "",
         "marker": {
          "color": "#636efa"
         },
         "name": "",
         "offsetgroup": "",
         "orientation": "v",
         "showlegend": false,
         "textposition": "auto",
         "type": "bar",
         "x": [
          "Alaarv_song",
          "Cetcet_song",
          "Erirub_song",
          "Galcri_call",
          "Parate_song",
          "Serser_song",
          "Sylcan_call",
          "Sylcan_song",
          "Turmer_call",
          "Turphi_song"
         ],
         "xaxis": "x",
         "y": [
          22,
          22,
          29,
          25,
          25,
          21,
          21,
          25,
          26,
          28
         ],
         "yaxis": "y"
        }
       ],
       "layout": {
        "barmode": "relative",
        "legend": {
         "tracegroupgap": 0
        },
        "margin": {
         "t": 60
        },
        "template": {
         "data": {
          "bar": [
           {
            "error_x": {
             "color": "#2a3f5f"
            },
            "error_y": {
             "color": "#2a3f5f"
            },
            "marker": {
             "line": {
              "color": "#E5ECF6",
              "width": 0.5
             }
            },
            "type": "bar"
           }
          ],
          "barpolar": [
           {
            "marker": {
             "line": {
              "color": "#E5ECF6",
              "width": 0.5
             }
            },
            "type": "barpolar"
           }
          ],
          "carpet": [
           {
            "aaxis": {
             "endlinecolor": "#2a3f5f",
             "gridcolor": "white",
             "linecolor": "white",
             "minorgridcolor": "white",
             "startlinecolor": "#2a3f5f"
            },
            "baxis": {
             "endlinecolor": "#2a3f5f",
             "gridcolor": "white",
             "linecolor": "white",
             "minorgridcolor": "white",
             "startlinecolor": "#2a3f5f"
            },
            "type": "carpet"
           }
          ],
          "choropleth": [
           {
            "colorbar": {
             "outlinewidth": 0,
             "ticks": ""
            },
            "type": "choropleth"
           }
          ],
          "contour": [
           {
            "colorbar": {
             "outlinewidth": 0,
             "ticks": ""
            },
            "colorscale": [
             [
              0,
              "#0d0887"
             ],
             [
              0.1111111111111111,
              "#46039f"
             ],
             [
              0.2222222222222222,
              "#7201a8"
             ],
             [
              0.3333333333333333,
              "#9c179e"
             ],
             [
              0.4444444444444444,
              "#bd3786"
             ],
             [
              0.5555555555555556,
              "#d8576b"
             ],
             [
              0.6666666666666666,
              "#ed7953"
             ],
             [
              0.7777777777777778,
              "#fb9f3a"
             ],
             [
              0.8888888888888888,
              "#fdca26"
             ],
             [
              1,
              "#f0f921"
             ]
            ],
            "type": "contour"
           }
          ],
          "contourcarpet": [
           {
            "colorbar": {
             "outlinewidth": 0,
             "ticks": ""
            },
            "type": "contourcarpet"
           }
          ],
          "heatmap": [
           {
            "colorbar": {
             "outlinewidth": 0,
             "ticks": ""
            },
            "colorscale": [
             [
              0,
              "#0d0887"
             ],
             [
              0.1111111111111111,
              "#46039f"
             ],
             [
              0.2222222222222222,
              "#7201a8"
             ],
             [
              0.3333333333333333,
              "#9c179e"
             ],
             [
              0.4444444444444444,
              "#bd3786"
             ],
             [
              0.5555555555555556,
              "#d8576b"
             ],
             [
              0.6666666666666666,
              "#ed7953"
             ],
             [
              0.7777777777777778,
              "#fb9f3a"
             ],
             [
              0.8888888888888888,
              "#fdca26"
             ],
             [
              1,
              "#f0f921"
             ]
            ],
            "type": "heatmap"
           }
          ],
          "heatmapgl": [
           {
            "colorbar": {
             "outlinewidth": 0,
             "ticks": ""
            },
            "colorscale": [
             [
              0,
              "#0d0887"
             ],
             [
              0.1111111111111111,
              "#46039f"
             ],
             [
              0.2222222222222222,
              "#7201a8"
             ],
             [
              0.3333333333333333,
              "#9c179e"
             ],
             [
              0.4444444444444444,
              "#bd3786"
             ],
             [
              0.5555555555555556,
              "#d8576b"
             ],
             [
              0.6666666666666666,
              "#ed7953"
             ],
             [
              0.7777777777777778,
              "#fb9f3a"
             ],
             [
              0.8888888888888888,
              "#fdca26"
             ],
             [
              1,
              "#f0f921"
             ]
            ],
            "type": "heatmapgl"
           }
          ],
          "histogram": [
           {
            "marker": {
             "colorbar": {
              "outlinewidth": 0,
              "ticks": ""
             }
            },
            "type": "histogram"
           }
          ],
          "histogram2d": [
           {
            "colorbar": {
             "outlinewidth": 0,
             "ticks": ""
            },
            "colorscale": [
             [
              0,
              "#0d0887"
             ],
             [
              0.1111111111111111,
              "#46039f"
             ],
             [
              0.2222222222222222,
              "#7201a8"
             ],
             [
              0.3333333333333333,
              "#9c179e"
             ],
             [
              0.4444444444444444,
              "#bd3786"
             ],
             [
              0.5555555555555556,
              "#d8576b"
             ],
             [
              0.6666666666666666,
              "#ed7953"
             ],
             [
              0.7777777777777778,
              "#fb9f3a"
             ],
             [
              0.8888888888888888,
              "#fdca26"
             ],
             [
              1,
              "#f0f921"
             ]
            ],
            "type": "histogram2d"
           }
          ],
          "histogram2dcontour": [
           {
            "colorbar": {
             "outlinewidth": 0,
             "ticks": ""
            },
            "colorscale": [
             [
              0,
              "#0d0887"
             ],
             [
              0.1111111111111111,
              "#46039f"
             ],
             [
              0.2222222222222222,
              "#7201a8"
             ],
             [
              0.3333333333333333,
              "#9c179e"
             ],
             [
              0.4444444444444444,
              "#bd3786"
             ],
             [
              0.5555555555555556,
              "#d8576b"
             ],
             [
              0.6666666666666666,
              "#ed7953"
             ],
             [
              0.7777777777777778,
              "#fb9f3a"
             ],
             [
              0.8888888888888888,
              "#fdca26"
             ],
             [
              1,
              "#f0f921"
             ]
            ],
            "type": "histogram2dcontour"
           }
          ],
          "mesh3d": [
           {
            "colorbar": {
             "outlinewidth": 0,
             "ticks": ""
            },
            "type": "mesh3d"
           }
          ],
          "parcoords": [
           {
            "line": {
             "colorbar": {
              "outlinewidth": 0,
              "ticks": ""
             }
            },
            "type": "parcoords"
           }
          ],
          "pie": [
           {
            "automargin": true,
            "type": "pie"
           }
          ],
          "scatter": [
           {
            "marker": {
             "colorbar": {
              "outlinewidth": 0,
              "ticks": ""
             }
            },
            "type": "scatter"
           }
          ],
          "scatter3d": [
           {
            "line": {
             "colorbar": {
              "outlinewidth": 0,
              "ticks": ""
             }
            },
            "marker": {
             "colorbar": {
              "outlinewidth": 0,
              "ticks": ""
             }
            },
            "type": "scatter3d"
           }
          ],
          "scattercarpet": [
           {
            "marker": {
             "colorbar": {
              "outlinewidth": 0,
              "ticks": ""
             }
            },
            "type": "scattercarpet"
           }
          ],
          "scattergeo": [
           {
            "marker": {
             "colorbar": {
              "outlinewidth": 0,
              "ticks": ""
             }
            },
            "type": "scattergeo"
           }
          ],
          "scattergl": [
           {
            "marker": {
             "colorbar": {
              "outlinewidth": 0,
              "ticks": ""
             }
            },
            "type": "scattergl"
           }
          ],
          "scattermapbox": [
           {
            "marker": {
             "colorbar": {
              "outlinewidth": 0,
              "ticks": ""
             }
            },
            "type": "scattermapbox"
           }
          ],
          "scatterpolar": [
           {
            "marker": {
             "colorbar": {
              "outlinewidth": 0,
              "ticks": ""
             }
            },
            "type": "scatterpolar"
           }
          ],
          "scatterpolargl": [
           {
            "marker": {
             "colorbar": {
              "outlinewidth": 0,
              "ticks": ""
             }
            },
            "type": "scatterpolargl"
           }
          ],
          "scatterternary": [
           {
            "marker": {
             "colorbar": {
              "outlinewidth": 0,
              "ticks": ""
             }
            },
            "type": "scatterternary"
           }
          ],
          "surface": [
           {
            "colorbar": {
             "outlinewidth": 0,
             "ticks": ""
            },
            "colorscale": [
             [
              0,
              "#0d0887"
             ],
             [
              0.1111111111111111,
              "#46039f"
             ],
             [
              0.2222222222222222,
              "#7201a8"
             ],
             [
              0.3333333333333333,
              "#9c179e"
             ],
             [
              0.4444444444444444,
              "#bd3786"
             ],
             [
              0.5555555555555556,
              "#d8576b"
             ],
             [
              0.6666666666666666,
              "#ed7953"
             ],
             [
              0.7777777777777778,
              "#fb9f3a"
             ],
             [
              0.8888888888888888,
              "#fdca26"
             ],
             [
              1,
              "#f0f921"
             ]
            ],
            "type": "surface"
           }
          ],
          "table": [
           {
            "cells": {
             "fill": {
              "color": "#EBF0F8"
             },
             "line": {
              "color": "white"
             }
            },
            "header": {
             "fill": {
              "color": "#C8D4E3"
             },
             "line": {
              "color": "white"
             }
            },
            "type": "table"
           }
          ]
         },
         "layout": {
          "annotationdefaults": {
           "arrowcolor": "#2a3f5f",
           "arrowhead": 0,
           "arrowwidth": 1
          },
          "autotypenumbers": "strict",
          "coloraxis": {
           "colorbar": {
            "outlinewidth": 0,
            "ticks": ""
           }
          },
          "colorscale": {
           "diverging": [
            [
             0,
             "#8e0152"
            ],
            [
             0.1,
             "#c51b7d"
            ],
            [
             0.2,
             "#de77ae"
            ],
            [
             0.3,
             "#f1b6da"
            ],
            [
             0.4,
             "#fde0ef"
            ],
            [
             0.5,
             "#f7f7f7"
            ],
            [
             0.6,
             "#e6f5d0"
            ],
            [
             0.7,
             "#b8e186"
            ],
            [
             0.8,
             "#7fbc41"
            ],
            [
             0.9,
             "#4d9221"
            ],
            [
             1,
             "#276419"
            ]
           ],
           "sequential": [
            [
             0,
             "#0d0887"
            ],
            [
             0.1111111111111111,
             "#46039f"
            ],
            [
             0.2222222222222222,
             "#7201a8"
            ],
            [
             0.3333333333333333,
             "#9c179e"
            ],
            [
             0.4444444444444444,
             "#bd3786"
            ],
            [
             0.5555555555555556,
             "#d8576b"
            ],
            [
             0.6666666666666666,
             "#ed7953"
            ],
            [
             0.7777777777777778,
             "#fb9f3a"
            ],
            [
             0.8888888888888888,
             "#fdca26"
            ],
            [
             1,
             "#f0f921"
            ]
           ],
           "sequentialminus": [
            [
             0,
             "#0d0887"
            ],
            [
             0.1111111111111111,
             "#46039f"
            ],
            [
             0.2222222222222222,
             "#7201a8"
            ],
            [
             0.3333333333333333,
             "#9c179e"
            ],
            [
             0.4444444444444444,
             "#bd3786"
            ],
            [
             0.5555555555555556,
             "#d8576b"
            ],
            [
             0.6666666666666666,
             "#ed7953"
            ],
            [
             0.7777777777777778,
             "#fb9f3a"
            ],
            [
             0.8888888888888888,
             "#fdca26"
            ],
            [
             1,
             "#f0f921"
            ]
           ]
          },
          "colorway": [
           "#636efa",
           "#EF553B",
           "#00cc96",
           "#ab63fa",
           "#FFA15A",
           "#19d3f3",
           "#FF6692",
           "#B6E880",
           "#FF97FF",
           "#FECB52"
          ],
          "font": {
           "color": "#2a3f5f"
          },
          "geo": {
           "bgcolor": "white",
           "lakecolor": "white",
           "landcolor": "#E5ECF6",
           "showlakes": true,
           "showland": true,
           "subunitcolor": "white"
          },
          "hoverlabel": {
           "align": "left"
          },
          "hovermode": "closest",
          "mapbox": {
           "style": "light"
          },
          "paper_bgcolor": "white",
          "plot_bgcolor": "#E5ECF6",
          "polar": {
           "angularaxis": {
            "gridcolor": "white",
            "linecolor": "white",
            "ticks": ""
           },
           "bgcolor": "#E5ECF6",
           "radialaxis": {
            "gridcolor": "white",
            "linecolor": "white",
            "ticks": ""
           }
          },
          "scene": {
           "xaxis": {
            "backgroundcolor": "#E5ECF6",
            "gridcolor": "white",
            "gridwidth": 2,
            "linecolor": "white",
            "showbackground": true,
            "ticks": "",
            "zerolinecolor": "white"
           },
           "yaxis": {
            "backgroundcolor": "#E5ECF6",
            "gridcolor": "white",
            "gridwidth": 2,
            "linecolor": "white",
            "showbackground": true,
            "ticks": "",
            "zerolinecolor": "white"
           },
           "zaxis": {
            "backgroundcolor": "#E5ECF6",
            "gridcolor": "white",
            "gridwidth": 2,
            "linecolor": "white",
            "showbackground": true,
            "ticks": "",
            "zerolinecolor": "white"
           }
          },
          "shapedefaults": {
           "line": {
            "color": "#2a3f5f"
           }
          },
          "ternary": {
           "aaxis": {
            "gridcolor": "white",
            "linecolor": "white",
            "ticks": ""
           },
           "baxis": {
            "gridcolor": "white",
            "linecolor": "white",
            "ticks": ""
           },
           "bgcolor": "#E5ECF6",
           "caxis": {
            "gridcolor": "white",
            "linecolor": "white",
            "ticks": ""
           }
          },
          "title": {
           "x": 0.05
          },
          "xaxis": {
           "automargin": true,
           "gridcolor": "white",
           "linecolor": "white",
           "ticks": "",
           "title": {
            "standoff": 15
           },
           "zerolinecolor": "white",
           "zerolinewidth": 2
          },
          "yaxis": {
           "automargin": true,
           "gridcolor": "white",
           "linecolor": "white",
           "ticks": "",
           "title": {
            "standoff": 15
           },
           "zerolinecolor": "white",
           "zerolinewidth": 2
          }
         }
        },
        "xaxis": {
         "anchor": "y",
         "domain": [
          0,
          1
         ],
         "title": {
          "text": "classname"
         }
        },
        "yaxis": {
         "anchor": "x",
         "domain": [
          0,
          1
         ],
         "title": {
          "text": "count"
         }
        }
       }
      }
     },
     "metadata": {},
     "output_type": "display_data"
    }
   ],
   "source": [
    "# import plotly.graph_objects as go\n",
    "import plotly.express as px\n",
    "tmp = class_count.to_frame()\n",
    "tmp = tmp.reset_index()\n",
    "tmp = tmp.rename(columns={\"index\": \"classname\", \"classname\": \"count\"})\n",
    "tmp = tmp.sort_values(by=['classname'])\n",
    "# print(tmp)\n",
    "fig = px.bar(tmp[tmp['count']>20], x='classname', y='count')\n",
    "fig.show()"
   ]
  },
  {
   "cell_type": "markdown",
   "metadata": {},
   "source": [
    "## Duration of species of interests."
   ]
  },
  {
   "cell_type": "code",
   "execution_count": 9,
   "metadata": {},
   "outputs": [
    {
     "data": {
      "image/png": "[encoded data removed]",
      "text/plain": [
       "<Figure size 432x288 with 1 Axes>"
      ]
     },
     "metadata": {
      "needs_background": "light"
     },
     "output_type": "display_data"
    }
   ],
   "source": [
    "temp_df = df.loc[df['classname'].isin(species_of_interest)]\n",
    "temp_df.hist(column=\"duration\")\n",
    "df = temp_df\n"
   ]
  },
  {
   "cell_type": "code",
   "execution_count": 11,
   "metadata": {},
   "outputs": [
    {
     "data": {
      "text/plain": [
       "Erirub_song    29\n",
       "Turphi_song    28\n",
       "Turmer_call    26\n",
       "Sylcan_song    25\n",
       "Galcri_call    25\n",
       "Parate_song    25\n",
       "Cetcet_song    22\n",
       "Alaarv_song    22\n",
       "Sylcan_call    21\n",
       "Serser_song    21\n",
       "Name: classname, dtype: int64"
      ]
     },
     "execution_count": 11,
     "metadata": {},
     "output_type": "execute_result"
    }
   ],
   "source": [
    "df['classname'].value_counts()"
   ]
  },
  {
   "cell_type": "code",
   "execution_count": 8,
   "metadata": {},
   "outputs": [
    {
     "name": "stdout",
     "output_type": "stream",
     "text": [
      "29     revised-annotation_train086.csv\n",
      "30     revised-annotation_train086.csv\n",
      "61     revised-annotation_train468.csv\n",
      "62     revised-annotation_train468.csv\n",
      "63     revised-annotation_train468.csv\n",
      "225    revised-annotation_train122.csv\n",
      "342    revised-annotation_train190.csv\n",
      "343    revised-annotation_train190.csv\n",
      "379    revised-annotation_train031.csv\n",
      "472    revised-annotation_train579.csv\n",
      "473    revised-annotation_train579.csv\n",
      "579    revised-annotation_train628.csv\n",
      "580    revised-annotation_train628.csv\n",
      "607    revised-annotation_train414.csv\n",
      "608    revised-annotation_train414.csv\n",
      "615    revised-annotation_train428.csv\n",
      "616    revised-annotation_train428.csv\n",
      "635    revised-annotation_train039.csv\n",
      "653    revised-annotation_train171.csv\n",
      "739    revised-annotation_train176.csv\n",
      "740    revised-annotation_train176.csv\n",
      "741    revised-annotation_train176.csv\n",
      "813    revised-annotation_train058.csv\n",
      "877    revised-annotation_train502.csv\n",
      "878    revised-annotation_train502.csv\n",
      "879    revised-annotation_train502.csv\n",
      "924    revised-annotation_train261.csv\n",
      "972    revised-annotation_train075.csv\n",
      "Name: filename, dtype: object\n"
     ]
    }
   ],
   "source": [
    "for g, d in df.groupby(\"classname\"):\n",
    "    # print(g)\n",
    "    if g == \"Turphi_song\":\n",
    "        # print(d.head())\n",
    "        print(d['filename'].apply(lambda x: os.path.basename(x)))\n",
    "        "
   ]
  },
  {
   "cell_type": "markdown",
   "metadata": {},
   "source": [
    "# Export Dataset"
   ]
  },
  {
   "cell_type": "markdown",
   "metadata": {},
   "source": [
    "all_files_df = []\n",
    "\n",
    "AUDIO_CACHE = {}\n",
    "for cls, group in tqdm(df.groupby(\"classname\")):\n",
    "    if len(group) < 20:\n",
    "        continue\n",
    "    # for row in tqdm(group.iterrows()):\n",
    "    train, test = train_test_split(group, test_size=0.25)\n",
    "    print(len(train), len(test))\n",
    "    temp_split = {\"train\":train, \"test\":test}\n",
    "    for data_set, set_ in temp_split.items():\n",
    "        for sample in set_.iterrows():\n",
    "            try:\n",
    "                annotation_path = sample[1]['filename'] \n",
    "                start_time = float(sample[1]['start_time'])\n",
    "                duration = float(sample[1]['duration'])\n",
    "                class_ = sample[1]['classname'].strip()\n",
    "                audio_path = os.path.join(\n",
    "                    AUDIOS_PATH_ROOT,\n",
    "                    \"train\",\n",
    "                    os.path.basename(annotation_path).split('-')[1].replace('.csv', '.wav').replace('annotation_train', 'nips4b_birds_trainfile')\n",
    "                )\n",
    "                # print(audio_path)\n",
    "                if audio_path not in AUDIO_CACHE:\n",
    "                    AUDIO_CACHE[audio_path] = librosa.load(audio_path, sr=SR)\n",
    "                audio, sr = AUDIO_CACHE[audio_path]\n",
    "                # start_ = max(0, start_time-0.01)\n",
    "                # end_ = start_ + min(duration+0.01, librosa.get_duration(y=audio ,sr=SR))\n",
    "                start_ = start_time\n",
    "                end_ = start_ + duration\n",
    "                start_, end_ = librosa.time_to_samples([start_, end_], sr=SR)\n",
    "                y_sample = audio[start_:end_]\n",
    "                out_filename = os.path.basename(audio_path)\n",
    "                out_filename, ext = os.path.splitext(out_filename)\n",
    "                out_filename = f\"{out_filename}-{str(uuid.uuid4())[0:6]}\"\n",
    "                out_filename += ext\n",
    "                outfile = os.path.join(\n",
    "                    OUT_FOLDER,\n",
    "                    f\"cleaned_{data_set}\",\n",
    "                    class_,\n",
    "                    out_filename\n",
    "                )\n",
    "                # print(start_, end_, len(y_sample))\n",
    "                os.makedirs(os.path.dirname(outfile), exist_ok=True)\n",
    "                # librosa.output.write_wav(outfile, y_sample, SR)\n",
    "                # print(outfile)\n",
    "                temp_path = outfile.split('/')\n",
    "                temp_path = f\"{os.path.sep}\".join(temp_path[-3:])\n",
    "                # print(temp_path)\n",
    "                data_folder = temp_path.split(os.path.sep)[0]\n",
    "                out_txt = os.path.join(OUT_FOLDER, data_folder+'.txt')\n",
    "                # print(out_txt)\n",
    "                with open(os.path.join(out_txt), 'a') as fs:\n",
    "                    fs.write(f\"{temp_path}\\n\")\n",
    "\n",
    "            except Exception as e:\n",
    "                print(\"Error while processing\", annotation_filepath, e)\n",
    "#             break\n",
    "    #     break\n",
    "    # break\n",
    "\n"
   ]
  }
 ],
 "metadata": {
  "interpreter": {
   "hash": "e93dd7469fb6698e09fbfba73e5ce40dc1dc5e356aab3eb579a371dc5e93993c"
  },
  "kernelspec": {
   "display_name": "Python 3.7.7 64-bit ('scologan': conda)",
   "language": "python",
   "name": "python3"
  },
  "language_info": {
   "codemirror_mode": {
    "name": "ipython",
    "version": 3
   },
   "file_extension": ".py",
   "mimetype": "text/x-python",
   "name": "python",
   "nbconvert_exporter": "python",
   "pygments_lexer": "ipython3",
   "version": "3.7.7"
  },
  "orig_nbformat": 4
 },
 "nbformat": 4,
 "nbformat_minor": 2
}
